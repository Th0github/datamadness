{
 "cells": [
  {
   "cell_type": "markdown",
   "metadata": {},
   "source": [
    "## Estimate how many copies of a game has sold on steam on reviews\n",
    "Steam sale data is not public.  Historically, game marketing companies have used a metric called the Boxleiter number which was most recently updated in 2018 [3].  In October 2019, Steam introduced a 'would you like to review this?' button directly to a games launch page.  This button's existence would imply that games with higher reviews would also mean that there are more sales.\n",
    "\n",
    "The sample dataset for the number of people who own a game come from SteamSpy, a third party source.  So any analysis made should be taken with a grain of salt."
   ]
  },
  {
   "cell_type": "code",
   "execution_count": 1,
   "metadata": {},
   "outputs": [],
   "source": [
    "import numpy as np\n",
    "import pandas as pd"
   ]
  },
  {
   "cell_type": "code",
   "execution_count": 2,
   "metadata": {},
   "outputs": [],
   "source": [
    "df = pd.read_csv('data/clean_steam_general.csv')"
   ]
  },
  {
   "cell_type": "code",
   "execution_count": null,
   "metadata": {},
   "outputs": [],
   "source": [
    "# correlate release data with number of users"
   ]
  },
  {
   "cell_type": "markdown",
   "metadata": {},
   "source": [
    "Sources:\n",
    "\n",
    "[1] https://newsletter.gamediscover.co/p/how-that-game-sold-on-steam-using\n",
    "\n",
    "[2] http://greyaliengames.com/blog/how-to-estimate-how-many-sales-a-steam-game-has-made/\n",
    "\n",
    "[3] https://www.gamasutra.com/blogs/JakeBirkett/20180504/317366/Using_Steam_reviews_to_estimate_sales.php"
   ]
  }
 ],
 "metadata": {
  "kernelspec": {
   "display_name": "Python 3",
   "language": "python",
   "name": "python3"
  },
  "language_info": {
   "codemirror_mode": {
    "name": "ipython",
    "version": 3
   },
   "file_extension": ".py",
   "mimetype": "text/x-python",
   "name": "python",
   "nbconvert_exporter": "python",
   "pygments_lexer": "ipython3",
   "version": "3.7.3"
  }
 },
 "nbformat": 4,
 "nbformat_minor": 4
}
